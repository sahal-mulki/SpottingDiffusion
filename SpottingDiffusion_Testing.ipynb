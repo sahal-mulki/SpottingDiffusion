{
  "nbformat": 4,
  "nbformat_minor": 0,
  "metadata": {
    "colab": {
      "provenance": [],
      "gpuType": "T4"
    },
    "kernelspec": {
      "name": "python3",
      "display_name": "Python 3"
    },
    "language_info": {
      "name": "python"
    },
    "accelerator": "GPU"
  },
  "cells": [
    {
      "cell_type": "code",
      "source": [
        "#@title ##Import libraries and tools.\n",
        "import matplotlib.pyplot as plt\n",
        "import numpy as np\n",
        "import os\n",
        "import tensorflow as tf\n",
        "import pandas\n",
        "\n",
        "from PIL import Image\n",
        "from tensorflow import keras\n",
        "from tensorflow.keras import layers\n",
        "from tensorflow.keras.models import Sequential\n",
        "from tqdm import tqdm\n",
        "\n",
        "!sudo apt-get install webp parallel\n",
        "!git clone https://github.com/sahal-mulki/SpottingDiffusion/"
      ],
      "metadata": {
        "cellView": "form",
        "id": "QfXN8HU39qSO",
        "colab": {
          "base_uri": "https://localhost:8080/"
        },
        "outputId": "656565f8-15be-44df-b905-1e00346fc8be"
      },
      "execution_count": 41,
      "outputs": [
        {
          "output_type": "stream",
          "name": "stdout",
          "text": [
            "Reading package lists... Done\n",
            "Building dependency tree... Done\n",
            "Reading state information... Done\n",
            "webp is already the newest version (1.2.2-2ubuntu0.22.04.2).\n",
            "Suggested packages:\n",
            "  ash csh fish ksh tcsh zsh isag\n",
            "The following NEW packages will be installed:\n",
            "  parallel sysstat\n",
            "0 upgraded, 2 newly installed, 0 to remove and 32 not upgraded.\n",
            "Need to get 2,434 kB of archives.\n",
            "After this operation, 4,521 kB of additional disk space will be used.\n",
            "Get:1 http://archive.ubuntu.com/ubuntu jammy-updates/main amd64 sysstat amd64 12.5.2-2ubuntu0.2 [487 kB]\n",
            "Get:2 http://archive.ubuntu.com/ubuntu jammy/universe amd64 parallel all 20210822+ds-2 [1,947 kB]\n",
            "Fetched 2,434 kB in 2s (1,607 kB/s)\n",
            "debconf: unable to initialize frontend: Dialog\n",
            "debconf: (No usable dialog-like program is installed, so the dialog based frontend cannot be used. at /usr/share/perl5/Debconf/FrontEnd/Dialog.pm line 78, <> line 2.)\n",
            "debconf: falling back to frontend: Readline\n",
            "debconf: unable to initialize frontend: Readline\n",
            "debconf: (This frontend requires a controlling tty.)\n",
            "debconf: falling back to frontend: Teletype\n",
            "dpkg-preconfigure: unable to re-open stdin: \n",
            "Selecting previously unselected package sysstat.\n",
            "(Reading database ... 123913 files and directories currently installed.)\n",
            "Preparing to unpack .../sysstat_12.5.2-2ubuntu0.2_amd64.deb ...\n",
            "Unpacking sysstat (12.5.2-2ubuntu0.2) ...\n",
            "Selecting previously unselected package parallel.\n",
            "Preparing to unpack .../parallel_20210822+ds-2_all.deb ...\n",
            "Adding 'diversion of /usr/bin/parallel to /usr/bin/parallel.moreutils by parallel'\n",
            "Adding 'diversion of /usr/share/man/man1/parallel.1.gz to /usr/share/man/man1/parallel.moreutils.1.gz by parallel'\n",
            "Unpacking parallel (20210822+ds-2) ...\n",
            "Setting up sysstat (12.5.2-2ubuntu0.2) ...\n",
            "debconf: unable to initialize frontend: Dialog\n",
            "debconf: (No usable dialog-like program is installed, so the dialog based frontend cannot be used. at /usr/share/perl5/Debconf/FrontEnd/Dialog.pm line 78.)\n",
            "debconf: falling back to frontend: Readline\n",
            "\n",
            "Creating config file /etc/default/sysstat with new version\n",
            "update-alternatives: using /usr/bin/sar.sysstat to provide /usr/bin/sar (sar) in auto mode\n",
            "Created symlink /etc/systemd/system/sysstat.service.wants/sysstat-collect.timer → /lib/systemd/system/sysstat-collect.timer.\n",
            "Created symlink /etc/systemd/system/sysstat.service.wants/sysstat-summary.timer → /lib/systemd/system/sysstat-summary.timer.\n",
            "Created symlink /etc/systemd/system/multi-user.target.wants/sysstat.service → /lib/systemd/system/sysstat.service.\n",
            "Setting up parallel (20210822+ds-2) ...\n",
            "Processing triggers for man-db (2.10.2-1) ...\n",
            "fatal: destination path 'SpottingDiffusion' already exists and is not an empty directory.\n"
          ]
        }
      ]
    },
    {
      "cell_type": "code",
      "source": [
        "#@markdown ##Downloading the SpottingDiffusion Testing dataset.\n",
        "#@markdown <br>\n",
        "\n",
        "KaggleAPIUsername = \"sahalmulki\" #@param {type:\"string\"}\n",
        "KaggleAPIKey = \"c0488ed13ac0db114a3350bdb5778e73\" #@param {type:\"string\"}\n",
        "\n",
        "os.environ['KAGGLE_USERNAME'] = KaggleAPIUsername\n",
        "os.environ['KAGGLE_KEY'] = KaggleAPIKey\n",
        "\n",
        "!kaggle datasets download sahalmulki/spotting-diffusion-testing-balanced\n",
        "!mkdir data\n",
        "!unzip /content/spotting-diffusion-testing-balanced.zip -d /content/spotting-diffusion-testing-balanced/"
      ],
      "metadata": {
        "colab": {
          "base_uri": "https://localhost:8080/"
        },
        "id": "5zGAmT_x7Eaw",
        "outputId": "3073aa12-9687-4705-8af3-f427c7740947"
      },
      "execution_count": 7,
      "outputs": [
        {
          "output_type": "stream",
          "name": "stdout",
          "text": [
            "spotting-diffusion-testing-balanced.zip: Skipping, found more recently modified local copy (use --force to force download)\n",
            "mkdir: cannot create directory ‘data’: File exists\n",
            "Archive:  /content/spotting-diffusion-testing-balanced.zip\n",
            "replace /content/spotting-diffusion-testing-balanced/spotting-diffusion-testing-balanced/ldms/r-dalle2/15mm-wide-angle-lens-photo-of-a-rapper-in-1990-new-york-v0-rgr4pg3ka9791.webp? [y]es, [n]o, [A]ll, [N]one, [r]ename: "
          ]
        }
      ]
    },
    {
      "cell_type": "code",
      "source": [
        "#@markdown ##Processing the dataset.\n",
        "#@markdown <br>\n",
        "\n",
        "!mkdir spottingdiffusion-testing-dataset-processed && cd spottingdiffusion-testing-dataset-processed && mkdir Real && cd Real && mkdir Real && cp /content/spotting-diffusion-testing-balanced/spotting-diffusion-testing-balanced/real/r-pics/* /content/spottingdiffusion-testing-dataset-processed/Real/Real\n",
        "!cd spottingdiffusion-testing-dataset-processed && mkdir Generated && cd Generated && mkdir Generated && cd Generated && cp /content/spotting-diffusion-testing-balanced/spotting-diffusion-testing-balanced/ldms/r-dalle2/* /content/spottingdiffusion-testing-dataset-processed/Generated/Generated/ && cp /content/spotting-diffusion-testing-balanced/spotting-diffusion-testing-balanced/ldms/r-midjourney/* /content/spottingdiffusion-testing-dataset-processed/Generated/Generated/ && cp /content/spotting-diffusion-testing-balanced/spotting-diffusion-testing-balanced/ldms/r-stablediffusion/* /content/spottingdiffusion-testing-dataset-processed/Generated/Generated/\n",
        "\n",
        "!find . -name \"*.webp\" -print0 | parallel -0 dwebp -quiet {} -o {.}.png\n"
      ],
      "metadata": {
        "id": "NqmqnBsO8q__",
        "cellView": "form"
      },
      "execution_count": 57,
      "outputs": []
    },
    {
      "cell_type": "code",
      "execution_count": 58,
      "metadata": {
        "id": "Pj8MJbxB66-K",
        "colab": {
          "base_uri": "https://localhost:8080/"
        },
        "cellView": "form",
        "outputId": "87b463cf-fb90-46f5-ccab-49706d91ee0c"
      },
      "outputs": [
        {
          "output_type": "stream",
          "name": "stdout",
          "text": [
            "2024-02-11 16:53:47.398216: E external/local_xla/xla/stream_executor/cuda/cuda_dnn.cc:9261] Unable to register cuDNN factory: Attempting to register factory for plugin cuDNN when one has already been registered\n",
            "2024-02-11 16:53:47.398262: E external/local_xla/xla/stream_executor/cuda/cuda_fft.cc:607] Unable to register cuFFT factory: Attempting to register factory for plugin cuFFT when one has already been registered\n",
            "2024-02-11 16:53:47.399514: E external/local_xla/xla/stream_executor/cuda/cuda_blas.cc:1515] Unable to register cuBLAS factory: Attempting to register factory for plugin cuBLAS when one has already been registered\n",
            "2024-02-11 16:53:48.354539: W tensorflow/compiler/tf2tensorrt/utils/py_utils.cc:38] TF-TRT Warning: Could not find TensorRT\n",
            "2024-02-11 16:53:50.120339: W tensorflow/core/common_runtime/gpu/gpu_bfc_allocator.cc:47] Overriding orig_value setting because the TF_FORCE_GPU_ALLOW_GROWTH environment variable is set. Original config value was 0.\n",
            "Found 120 files belonging to 2 classes.\n",
            "Commencing evalutation.\n",
            "24/24 [==============================] - 5s 60ms/step - loss: 0.9661 - accuracy: 0.6250\n",
            "\n",
            "Model Stats on given data:\n",
            "Loss: 0.9661175012588501\n",
            "Accuracy: 0.625\n"
          ]
        }
      ],
      "source": [
        "#@markdown ##Evaluating the model on the dataset.\n",
        "#@markdown <br>\n",
        "\n",
        "!python /content/SpottingDiffusion/evaluate.py /content/spottingdiffusion-testing-dataset-processed /content/SpottingDiffusion/pretrained/pretrained-spotting-diffusion"
      ]
    }
  ]
}